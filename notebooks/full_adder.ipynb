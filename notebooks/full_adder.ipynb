{
 "cells": [
  {
   "cell_type": "markdown",
   "metadata": {},
   "source": [
    "# Ο πλήρης αθροιστής\n",
    "Το κύκλωμα αυτό θα προσθέτει δυο qubits είσοδου συνυπολογίζοντας και πιθανό κρατούμενο qubit από προηγούμενη πρόσθεση."
   ]
  },
  {
   "cell_type": "code",
   "execution_count": 2,
   "metadata": {},
   "outputs": [],
   "source": [
    "from qiskit import QuantumCircuit, QuantumRegister"
   ]
  },
  {
   "cell_type": "markdown",
   "metadata": {},
   "source": [
    "Έστω $a, b$ τα δυο qubit εισόδου και $c$ το κρατούμενο εισόδου. \n",
    "Το qubit $d=\\ket{0}$ και θα χρησιμοποιηθεί ως κενός καταχωρητής.  \n",
    "Έστω ένα κύκλωμα $C$ που είναι στιγμιότυπο της κλάσης `QuantumCircuit` και θα αποτελείται από τα qubits $a, b, c$ και $d$. "
   ]
  },
  {
   "cell_type": "code",
   "execution_count": 3,
   "metadata": {},
   "outputs": [],
   "source": [
    "a = QuantumRegister(1, 'a')\n",
    "b = QuantumRegister(1, 'b')\n",
    "c = QuantumRegister(1, 'c')\n",
    "d = QuantumRegister(1, 'd=0')\n",
    "C = QuantumCircuit(a, b, c, d)"
   ]
  },
  {
   "cell_type": "markdown",
   "metadata": {},
   "source": [
    "Ο συγκεκριμένος πλήρης αθροιστής αποτελείται από δυο άλλα μικρότερα κυκλώματα, δυο ημι-αθροιστές.  \n",
    "Η λογική του κυκλώματος είναι ως εξής:\n",
    "- Δρα ο πρώτος ημι-αθροιστής στα qubits $a, b$ και $c$. Στην έξοδο του παράγεται το μερικό άθροισμα $s'$ \n",
    "μαζί με το μερικό κρατούμενο $c'$ που μπορεί να παράχθηκε κατά την πρόσθεση.\n",
    "- Στη δεύτερη φάση, ο δεύτερος ημι-αθροιστής δρα πάνω στα qubits $s' = a, c' = b$ και $d$ και παράγεται το άθροισμα μαζί με το κρατούμενο, αλλά αυτή τη φορά με συνυπολογισμό πιθανού κρατούμενου."
   ]
  },
  {
   "cell_type": "code",
   "execution_count": 4,
   "metadata": {},
   "outputs": [
    {
     "data": {
      "text/plain": [
       "<qiskit.circuit.instructionset.InstructionSet at 0x7f858f28e080>"
      ]
     },
     "execution_count": 4,
     "metadata": {},
     "output_type": "execute_result"
    }
   ],
   "source": [
    "C.ccx(a, b, c)\n",
    "C.cx(a, b)\n",
    "C.ccx(b, c, d)\n",
    "C.cx(b, c)"
   ]
  },
  {
   "cell_type": "markdown",
   "metadata": {},
   "source": [
    "Προαιρετικά, μπορούμε να επαναφέρουμε το qubit $b$ στην αρχική του κατάσταση δρώντας πάνω του με μια πύλη $CNOT$, με control qubit το qubit $a$."
   ]
  },
  {
   "cell_type": "code",
   "execution_count": 5,
   "metadata": {},
   "outputs": [
    {
     "data": {
      "text/plain": [
       "<qiskit.circuit.instructionset.InstructionSet at 0x7f85cc350bb0>"
      ]
     },
     "execution_count": 5,
     "metadata": {},
     "output_type": "execute_result"
    }
   ],
   "source": [
    "C.cx(a, b)"
   ]
  },
  {
   "cell_type": "code",
   "execution_count": 6,
   "metadata": {},
   "outputs": [
    {
     "name": "stderr",
     "output_type": "stream",
     "text": [
      "/home/thanasis/quantum-alu/.venv/lib/python3.11/site-packages/qiskit/visualization/circuit/latex.py:154: FutureWarning: The default matplotlib drawer scheme will be changed to \"iqp\" in a following release. To silence this warning, specify the current default explicitly as style=\"clifford\", or the new default as style=\"iqp\".\n",
      "  self._style, _ = load_style(style)\n"
     ]
    },
    {
     "data": {
      "image/jpeg": "[encoded data removed]",
      "image/png": "[encoded data removed]",
      "text/plain": [
       "<PIL.Image.Image image mode=RGB size=301x119>"
      ]
     },
     "execution_count": 6,
     "metadata": {},
     "output_type": "execute_result"
    }
   ],
   "source": [
    "C.draw('latex')"
   ]
  }
 ],
 "metadata": {
  "kernelspec": {
   "display_name": ".venv",
   "language": "python",
   "name": "python3"
  },
  "language_info": {
   "codemirror_mode": {
    "name": "ipython",
    "version": 3
   },
   "file_extension": ".py",
   "mimetype": "text/x-python",
   "name": "python",
   "nbconvert_exporter": "python",
   "pygments_lexer": "ipython3",
   "version": "3.11.2"
  }
 },
 "nbformat": 4,
 "nbformat_minor": 2
}
