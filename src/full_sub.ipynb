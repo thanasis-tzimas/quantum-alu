{
 "cells": [
  {
   "cell_type": "code",
   "execution_count": null,
   "id": "cff5f752-c0d7-42ee-9951-3e1e459d7b73",
   "metadata": {},
   "outputs": [],
   "source": [
    "from qiskit import QuantumRegister, ClassicalRegister, QuantumCircuit"
   ]
  },
  {
   "cell_type": "code",
   "execution_count": null,
   "id": "778102b9-4c56-46cb-92e9-f77c26db75e0",
   "metadata": {},
   "outputs": [],
   "source": [
    "nbits = 3"
   ]
  },
  {
   "cell_type": "code",
   "execution_count": null,
   "id": "08ba16cb-68fe-4e7f-b70e-5e541f9df8ee",
   "metadata": {},
   "outputs": [],
   "source": [
    "# the variable quantum inputs\n",
    "sel = QuantumRegister(1, 'sel')\n",
    "p = QuantumRegister(nbits, 'p')\n",
    "q = QuantumRegister(nbits, 'q')\n",
    "cin = QuantumRegister(nbits, 'cin')\n",
    "# plus the zero-initialized quantum input\n",
    "o = QuantumRegister(1, 'o')"
   ]
  },
  {
   "cell_type": "code",
   "execution_count": null,
   "id": "2af005d5-0dc0-4e57-9520-f2884868e184",
   "metadata": {},
   "outputs": [],
   "source": [
    "overflow = ClassicalRegister(1, \"v\")\n",
    "oprime = ClassicalRegister(nbits, \"o'\")\n",
    "\n",
    "circ = QuantumCircuit(sel, p, q, cin, o, oprime)"
   ]
  },
  {
   "cell_type": "code",
   "execution_count": null,
   "id": "6acc7aac-0c4e-43a8-951a-52372e1cddb9",
   "metadata": {},
   "outputs": [],
   "source": [
    "select = input('Perform subtraction [Y/n]: ')\n",
    "mode = ''\n",
    "match select:\n",
    "    case 'n' | 'no' | 'No' | 'nO':\n",
    "        print('Mode: Addition')\n",
    "        mode = 'addition'\n",
    "    case _:\n",
    "        print('Mode: Subtraction')\n",
    "        mode = 'subtraction'\n",
    "        circ.x(sel)"
   ]
  },
  {
   "cell_type": "code",
   "execution_count": null,
   "id": "c452761a-c4e1-4da9-8e14-0c1b46f40f35",
   "metadata": {},
   "outputs": [],
   "source": [
    "ip = input('Input a 3-bit number (0 <= x < 8): ')\n",
    "for i, d in zip(range(nbits), reversed(bin(int(ip)).removeprefix('0b'))):\n",
    "    match d:\n",
    "        case '1':\n",
    "            circ.x(p[i])\n",
    "        case _:\n",
    "            pass\n",
    "\n",
    "    \n",
    "iq = input('Input a 3-bit number (0 <= x < 8): ')\n",
    "for i, d in zip(range(nbits), reversed(bin(int(iq)).removeprefix('0b'))):\n",
    "    match d:\n",
    "        case '1':\n",
    "            circ.x(q[i])\n",
    "        case _:\n",
    "            pass"
   ]
  },
  {
   "cell_type": "code",
   "execution_count": null,
   "id": "9d5747b6-b3ac-4b63-ad41-f6d0ad0d392f",
   "metadata": {},
   "outputs": [],
   "source": [
    "# if sel is set, then invert one of the input registers\n",
    "# we invert the |p> input register\n",
    "for i in range(nbits):\n",
    "    circ.cx(sel, q[i])\n",
    "circ.cx(sel, cin[0])\n",
    "circ.barrier()"
   ]
  },
  {
   "cell_type": "code",
   "execution_count": null,
   "id": "2d1bb4c9-2457-4925-82c8-44c2f965f8f0",
   "metadata": {},
   "outputs": [],
   "source": [
    "# then we apply the same gates \n",
    "# just like the full adder circuit\n",
    "for i in range(nbits):\n",
    "    circ.ccx(p[i], q[i], o)\n",
    "    circ.cx(p[i], q[i])\n",
    "    circ.ccx(q[i], cin[i], o)\n",
    "    circ.cx(q[i], cin[i])\n",
    "    circ.cx(p[i], q[i])\n",
    "    if i+1 < nbits:\n",
    "        circ.swap(o, cin[i+1])\n",
    "    circ.barrier()"
   ]
  },
  {
   "cell_type": "code",
   "execution_count": null,
   "id": "c4a79c1d-db71-43de-a1d8-cb9d11222ae4",
   "metadata": {},
   "outputs": [],
   "source": [
    "circ.measure(cin, oprime)"
   ]
  },
  {
   "cell_type": "code",
   "execution_count": null,
   "id": "e3017445-7abe-4288-b9f4-53be2b19c76c",
   "metadata": {},
   "outputs": [],
   "source": [
    "from qiskit.visualization import circuit_drawer\n",
    "circuit_drawer(circ, output='mpl', fold=-1)"
   ]
  },
  {
   "cell_type": "code",
   "execution_count": null,
   "id": "d29a21de-4d1a-4634-a59a-eae50cc904bc",
   "metadata": {},
   "outputs": [],
   "source": [
    "from qiskit_aer import Aer\n",
    "from qiskit.visualization import plot_histogram"
   ]
  },
  {
   "cell_type": "code",
   "execution_count": null,
   "id": "21687ac5-aa82-49cb-86f1-08c016957e41",
   "metadata": {},
   "outputs": [],
   "source": [
    "backend = Aer.get_backend('qasm_simulator')\n",
    "result = backend.run(circ).result()"
   ]
  },
  {
   "cell_type": "code",
   "execution_count": null,
   "id": "23d63c77-f404-418e-93a7-41d53b09ef38",
   "metadata": {},
   "outputs": [],
   "source": [
    "res = list(result.get_counts().keys())[0]\n",
    "op = '-'\n",
    "if mode == 'addition':\n",
    "    op = '+'\n",
    "print(f'{bin(int(ip))} {op} {bin(int(iq))} = 0b{res}')\n",
    "plot_histogram(result.get_counts())\n",
    "plot_histogram(result.get_counts())"
   ]
  }
 ],
 "metadata": {
  "kernelspec": {
   "display_name": "Python 3 (ipykernel)",
   "language": "python",
   "name": "python3"
  },
  "language_info": {
   "codemirror_mode": {
    "name": "ipython",
    "version": 3
   },
   "file_extension": ".py",
   "mimetype": "text/x-python",
   "name": "python",
   "nbconvert_exporter": "python",
   "pygments_lexer": "ipython3",
   "version": "3.11.2"
  }
 },
 "nbformat": 4,
 "nbformat_minor": 5
}
