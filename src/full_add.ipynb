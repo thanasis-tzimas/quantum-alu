{
 "cells": [
  {
   "cell_type": "code",
   "execution_count": null,
   "id": "660ded8c-0db3-4287-b429-d61d761ee4da",
   "metadata": {},
   "outputs": [],
   "source": [
    "from qiskit import QuantumRegister, ClassicalRegister, QuantumCircuit"
   ]
  },
  {
   "cell_type": "code",
   "execution_count": null,
   "id": "93d17237-09c2-4305-99be-a14506520e5b",
   "metadata": {},
   "outputs": [],
   "source": [
    "nbits = 2"
   ]
  },
  {
   "cell_type": "code",
   "execution_count": null,
   "id": "50d8164d-a746-4443-a789-ac755fe627fb",
   "metadata": {},
   "outputs": [],
   "source": [
    "# operand qregisters\n",
    "p = QuantumRegister(nbits, 'p')\n",
    "q = QuantumRegister(nbits, 'q')\n",
    "cin = QuantumRegister(nbits, 'cin')\n",
    "o = QuantumRegister(1, 'o') # scratch register holding cout from each operation. init to 0\n",
    "# measure cregisters\n",
    "pprime = ClassicalRegister(nbits, \"p'\")\n",
    "qprime = ClassicalRegister(nbits, \"q'\")\n",
    "cinprime = ClassicalRegister(1, \"cin'\")\n",
    "res = ClassicalRegister(nbits+1, \"res = sum + cout\")\n",
    "\n",
    "circ = QuantumCircuit(p, q, cin, o, pprime, qprime, cinprime, res)"
   ]
  },
  {
   "cell_type": "code",
   "execution_count": null,
   "id": "ab38eb61-0f38-4ab6-a889-ec3fd4b6f3d1",
   "metadata": {},
   "outputs": [],
   "source": [
    "# superpos p, q and cin[0]\n",
    "circ.h(p)\n",
    "circ.h(q)\n",
    "circ.h(cin[0])\n",
    "circ.barrier(p, q, cin)\n",
    "circ.measure(cin[0], cinprime)\n",
    "circ.barrier(p, q, cin)"
   ]
  },
  {
   "cell_type": "code",
   "execution_count": null,
   "id": "ceb04a29-8ef8-4e38-8497-f69914e697bc",
   "metadata": {},
   "outputs": [],
   "source": [
    "# operation loop\n",
    "# loop each qbit and compute the sum and carry\n",
    "for i in range(nbits):\n",
    "    circ.ccx(p[i], q[i], o)\n",
    "    circ.cx(p[i], q[i])\n",
    "    circ.ccx(q[i], cin[i], o)\n",
    "    circ.cx(q[i], cin[i])\n",
    "    circ.cx(p[i], q[i])\n",
    "    if i+1 < nbits:\n",
    "        circ.swap(o, cin[i+1])\n",
    "    circ.barrier()\n",
    "circ.measure(p, pprime)\n",
    "circ.measure(q, qprime)\n",
    "circ.measure(cin, res[:nbits])\n",
    "circ.measure(o, res[-1])"
   ]
  },
  {
   "cell_type": "code",
   "execution_count": null,
   "id": "0eef4927-b234-497c-81a5-d54039429c50",
   "metadata": {},
   "outputs": [],
   "source": [
    "from qiskit.visualization import circuit_drawer\n",
    "circuit_drawer(circ, output='mpl', fold=-1, filename='full_add.pdf')"
   ]
  },
  {
   "cell_type": "code",
   "execution_count": null,
   "id": "4fa0449d-3409-4834-a3aa-cb497cc3a905",
   "metadata": {},
   "outputs": [],
   "source": [
    "from qiskit_aer import Aer\n",
    "from qiskit.visualization import plot_histogram"
   ]
  },
  {
   "cell_type": "code",
   "execution_count": null,
   "id": "c17b0455-5d21-478c-b541-6b33713d601b",
   "metadata": {},
   "outputs": [],
   "source": [
    "backend = Aer.get_backend('qasm_simulator')\n",
    "result = backend.run(circ).result()"
   ]
  },
  {
   "cell_type": "code",
   "execution_count": null,
   "id": "4f8ec39d-43fc-4e2d-a16d-ef057bcb70a2",
   "metadata": {},
   "outputs": [],
   "source": [
    "plot_histogram(result.get_counts())"
   ]
  }
 ],
 "metadata": {
  "kernelspec": {
   "display_name": "Python 3 (ipykernel)",
   "language": "python",
   "name": "python3"
  },
  "language_info": {
   "codemirror_mode": {
    "name": "ipython",
    "version": 3
   },
   "file_extension": ".py",
   "mimetype": "text/x-python",
   "name": "python",
   "nbconvert_exporter": "python",
   "pygments_lexer": "ipython3",
   "version": "3.11.2"
  }
 },
 "nbformat": 4,
 "nbformat_minor": 5
}
