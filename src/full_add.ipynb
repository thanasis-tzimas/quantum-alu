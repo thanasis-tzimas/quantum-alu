{
 "cells": [
  {
   "cell_type": "markdown",
   "id": "100af6cd-05a0-449b-b8d2-a8bcd03ea55c",
   "metadata": {},
   "source": [
    "# Full Adder\n",
    "A full adder is a digital circuit that performs the operation of addition of two given binary numbers.\n",
    "We can use signed or unsigned numbers but for this circuit we will use the simpler unsigned representation.\n",
    "So, for 3 bits we can encode 8 different numbers:\n",
    "\n",
    "|Unsigned Binary|Decimal|\n",
    "|:-:|:-:|\n",
    "|$000$|$0$|\n",
    "|$001$|$1$|\n",
    "|$010$|$2$|\n",
    "|$011$|$3$|\n",
    "|$100$|$4$|\n",
    "|$101$|$5$|\n",
    "|$110$|$6$|\n",
    "|$111$|$7$|\n",
    "\n",
    "We will implement a 3-qubit full adder circuit that can compute the addition of two three-qubit numbers and an optional carry in qubit."
   ]
  },
  {
   "cell_type": "code",
   "execution_count": null,
   "id": "660ded8c-0db3-4287-b429-d61d761ee4da",
   "metadata": {},
   "outputs": [],
   "source": [
    "from qiskit import QuantumRegister, ClassicalRegister, QuantumCircuit"
   ]
  },
  {
   "cell_type": "markdown",
   "id": "b69d3556-f8a4-4280-a4ea-ae1236dd9b84",
   "metadata": {},
   "source": [
    "We will need two quantum registers to store the unsigned binary representations of out two numbers $p$ and $q$.  \n",
    "We also declare $nbits$, a variable that dictates that we use three qubits to represent our numbers. "
   ]
  },
  {
   "cell_type": "code",
   "execution_count": null,
   "id": "2d6e8630-221f-46b2-addd-e060245669d9",
   "metadata": {},
   "outputs": [],
   "source": [
    "nbits = 3\n",
    "p = QuantumRegister(nbits, 'p')\n",
    "q = QuantumRegister(nbits, 'q')"
   ]
  },
  {
   "cell_type": "markdown",
   "id": "70287fe0-826e-40ad-9ae5-a8dff2e2e2e2",
   "metadata": {},
   "source": [
    "We also need an additional quantum register to store the initial and the subsequent carry qubits from each iteration of the addition $c_{in}$(`cin`)\n",
    "and a scratch register $o$(`o`) that will contain the carry out qubit. `o := 0`."
   ]
  },
  {
   "cell_type": "code",
   "execution_count": null,
   "id": "ae55fdd5-77b9-4325-8730-4f6aee054fb6",
   "metadata": {},
   "outputs": [],
   "source": [
    "cin = QuantumRegister(nbits, 'cin')\n",
    "o = QuantumRegister(1, 'o')"
   ]
  },
  {
   "cell_type": "markdown",
   "id": "4fa61716-3bfc-424b-8073-09129b989fd5",
   "metadata": {},
   "source": [
    "At last we declare a classic register $o'$(`oprime`) that will contain the measured output of the full adder."
   ]
  },
  {
   "cell_type": "code",
   "execution_count": null,
   "id": "50d8164d-a746-4443-a789-ac755fe627fb",
   "metadata": {},
   "outputs": [],
   "source": [
    "oprime = ClassicalRegister(nbits, \"o'\")"
   ]
  },
  {
   "cell_type": "markdown",
   "id": "37d79f70-597e-47b2-8e56-15bc1b79c35b",
   "metadata": {},
   "source": [
    "We finally declare a quantum circuit (`circ`) that contains all the quantum and classical registers from above."
   ]
  },
  {
   "cell_type": "code",
   "execution_count": null,
   "id": "ae3cc525-0046-4bb7-9f4d-27e0637cb790",
   "metadata": {},
   "outputs": [],
   "source": [
    "circ = QuantumCircuit(p, q, cin, o, oprime)"
   ]
  },
  {
   "cell_type": "code",
   "execution_count": null,
   "id": "ab38eb61-0f38-4ab6-a889-ec3fd4b6f3d1",
   "metadata": {},
   "outputs": [],
   "source": [
    "decp = input('Input a decimal number \"p\" (0 <= x < 8): ')\n",
    "i = 0\n",
    "for digit in reversed(bin(int(decp)).removeprefix('0b')):\n",
    "    if digit == '1':\n",
    "        circ.x(p[i])\n",
    "    i += 1\n",
    "\n",
    "decq = input('Input a decimal number \"q\" (0 <= x < 8): ')\n",
    "i = 0\n",
    "for digit in reversed(bin(int(decq)).removeprefix('0b')):\n",
    "    if digit == '1':\n",
    "        circ.x(q[i])\n",
    "    i += 1\n",
    "circ.barrier()"
   ]
  },
  {
   "cell_type": "code",
   "execution_count": null,
   "id": "ceb04a29-8ef8-4e38-8497-f69914e697bc",
   "metadata": {},
   "outputs": [],
   "source": [
    "for i in range(nbits):\n",
    "    circ.ccx(p[i], q[i], o)\n",
    "    circ.cx(p[i], q[i])\n",
    "    circ.ccx(q[i], cin[i], o)\n",
    "    circ.cx(q[i], cin[i])\n",
    "    circ.cx(p[i], q[i])\n",
    "    if i+1 < nbits:\n",
    "        circ.swap(o, cin[i+1])\n",
    "    circ.barrier()\n",
    "circ.measure(cin, oprime)"
   ]
  },
  {
   "cell_type": "code",
   "execution_count": null,
   "id": "0eef4927-b234-497c-81a5-d54039429c50",
   "metadata": {},
   "outputs": [],
   "source": [
    "from qiskit.visualization import circuit_drawer\n",
    "circuit_drawer(circ, output='mpl', fold=-1)"
   ]
  },
  {
   "cell_type": "code",
   "execution_count": null,
   "id": "4fa0449d-3409-4834-a3aa-cb497cc3a905",
   "metadata": {},
   "outputs": [],
   "source": [
    "from qiskit_aer import Aer\n",
    "from qiskit.visualization import plot_histogram"
   ]
  },
  {
   "cell_type": "code",
   "execution_count": null,
   "id": "c17b0455-5d21-478c-b541-6b33713d601b",
   "metadata": {},
   "outputs": [],
   "source": [
    "backend = Aer.get_backend('qasm_simulator')\n",
    "result = backend.run(circ).result()"
   ]
  },
  {
   "cell_type": "code",
   "execution_count": null,
   "id": "4f8ec39d-43fc-4e2d-a16d-ef057bcb70a2",
   "metadata": {},
   "outputs": [],
   "source": [
    "decres = list(result.get_counts().int_outcomes().keys())[0]\n",
    "print(f'{decp} + {decq} = {decres}')\n",
    "plot_histogram(result.get_counts())"
   ]
  }
 ],
 "metadata": {
  "kernelspec": {
   "display_name": "Python 3 (ipykernel)",
   "language": "python",
   "name": "python3"
  },
  "language_info": {
   "codemirror_mode": {
    "name": "ipython",
    "version": 3
   },
   "file_extension": ".py",
   "mimetype": "text/x-python",
   "name": "python",
   "nbconvert_exporter": "python",
   "pygments_lexer": "ipython3",
   "version": "3.11.2"
  }
 },
 "nbformat": 4,
 "nbformat_minor": 5
}
