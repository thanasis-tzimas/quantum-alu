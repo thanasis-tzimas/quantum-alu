{
 "cells": [
  {
   "cell_type": "code",
   "execution_count": null,
   "id": "1a655aba-b619-48a1-9069-c87d5198a906",
   "metadata": {},
   "outputs": [],
   "source": [
    "from qiskit import QuantumRegister, ClassicalRegister, QuantumCircuit"
   ]
  },
  {
   "cell_type": "code",
   "execution_count": null,
   "id": "d8a127c7-4d31-418e-8d6c-8c646d076573",
   "metadata": {},
   "outputs": [],
   "source": [
    "nbits = 3"
   ]
  },
  {
   "cell_type": "code",
   "execution_count": null,
   "id": "203d34a3-8d85-4afb-9b13-bece0d260f35",
   "metadata": {},
   "outputs": [],
   "source": [
    "p = QuantumRegister(nbits, 'p')\n",
    "q = QuantumRegister(nbits, 'q')\n",
    "out = QuantumRegister(2*nbits, 'out')"
   ]
  },
  {
   "cell_type": "code",
   "execution_count": null,
   "id": "7650094f-2844-4b85-815d-d8c2b91298cf",
   "metadata": {},
   "outputs": [],
   "source": [
    "res = ClassicalRegister(2*nbits)\n",
    "circ = QuantumCircuit(p, q, out, res)"
   ]
  },
  {
   "cell_type": "code",
   "execution_count": null,
   "id": "57e8a626-5a67-4295-804c-2374cac0e7eb",
   "metadata": {},
   "outputs": [],
   "source": [
    "ip = format(int(input('Input a 3-bit number: ')), 'b').rjust(nbits, '0')\n",
    "for i, digit in zip(range(nbits), reversed(ip)):\n",
    "    if digit == '1':\n",
    "        circ.x(p[i])\n",
    "\n",
    "iq = format(int(input('Input a 3-bit number: ')), 'b').rjust(nbits, '0')\n",
    "for i, digit in zip(range(nbits), reversed(iq)):\n",
    "    if digit == '1':\n",
    "        circ.x(q[i])"
   ]
  },
  {
   "cell_type": "code",
   "execution_count": null,
   "id": "15aeecd1-d253-4480-b76e-23d30c79b0df",
   "metadata": {},
   "outputs": [],
   "source": [
    "from qiskit.circuit.library import RGQFTMultiplier\n",
    "mul = RGQFTMultiplier(nbits).to_gate()\n",
    "circ.append(mul, qargs=range(4*nbits))\n",
    "circ.barrier(out)"
   ]
  },
  {
   "cell_type": "code",
   "execution_count": null,
   "id": "7500173d-2a03-44bc-ac01-2999861259ed",
   "metadata": {},
   "outputs": [],
   "source": [
    "circ.measure(out, res)"
   ]
  },
  {
   "cell_type": "code",
   "execution_count": null,
   "id": "a0f54fda-80a0-4350-b324-e1a5d94566d2",
   "metadata": {},
   "outputs": [],
   "source": [
    "from qiskit.visualization import circuit_drawer\n",
    "circuit_drawer(circ, output='mpl', fold=-1)"
   ]
  },
  {
   "cell_type": "code",
   "execution_count": null,
   "id": "2bce304e-e298-4818-baa8-7c810bf5e401",
   "metadata": {},
   "outputs": [],
   "source": [
    "from qiskit_aer import Aer\n",
    "from qiskit.visualization import plot_histogram"
   ]
  },
  {
   "cell_type": "code",
   "execution_count": null,
   "id": "43050fcd-ebea-4a6f-9fb4-5b5a2a06db49",
   "metadata": {},
   "outputs": [],
   "source": [
    "from qiskit import transpile\n",
    "from qiskit_aer import AerSimulator\n",
    "sim = AerSimulator()\n",
    "circ = transpile(circ, sim)"
   ]
  },
  {
   "cell_type": "code",
   "execution_count": null,
   "id": "dba47d41-9b93-4fc0-8e63-aef973d4b4c4",
   "metadata": {},
   "outputs": [],
   "source": [
    "backend = Aer.get_backend('qasm_simulator')\n",
    "result = backend.run(circ).result()\n",
    "plot_histogram(result.get_counts())"
   ]
  }
 ],
 "metadata": {
  "kernelspec": {
   "display_name": "Python 3 (ipykernel)",
   "language": "python",
   "name": "python3"
  },
  "language_info": {
   "codemirror_mode": {
    "name": "ipython",
    "version": 3
   },
   "file_extension": ".py",
   "mimetype": "text/x-python",
   "name": "python",
   "nbconvert_exporter": "python",
   "pygments_lexer": "ipython3",
   "version": "3.11.2"
  }
 },
 "nbformat": 4,
 "nbformat_minor": 5
}
