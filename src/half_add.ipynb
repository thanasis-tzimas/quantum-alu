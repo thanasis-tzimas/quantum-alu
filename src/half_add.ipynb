{
 "cells": [
  {
   "cell_type": "code",
   "execution_count": null,
   "id": "a27fbef6-22f2-4359-8dd3-936277d16b25",
   "metadata": {},
   "outputs": [],
   "source": [
    "from qiskit import QuantumRegister, ClassicalRegister, QuantumCircuit"
   ]
  },
  {
   "cell_type": "code",
   "execution_count": null,
   "id": "2f359f3a-ba33-41e0-aba7-b85d39d56338",
   "metadata": {},
   "outputs": [],
   "source": [
    "p = QuantumRegister(1, 'p')\n",
    "q = QuantumRegister(1, 'q')\n",
    "o = QuantumRegister(1, 'o')\n",
    "pprime = ClassicalRegister(1, \"p'\")\n",
    "qprime = ClassicalRegister(1, \"q'\") \n",
    "sum = ClassicalRegister(1, \"sum\")\n",
    "cout = ClassicalRegister(1, \"cout\")\n",
    "circ = QuantumCircuit(p, q, o, pprime, qprime, sum, cout)"
   ]
  },
  {
   "cell_type": "markdown",
   "id": "0942b3ba-7ff8-4a36-8548-75c002535e39",
   "metadata": {},
   "source": [
    "Put qubits `p` and `q` into superposition.  \n",
    "By doing this they are at state `0` and `1` at the same time."
   ]
  },
  {
   "cell_type": "code",
   "execution_count": null,
   "id": "e84d2029-cb91-4165-89f2-3eca2e1a17f4",
   "metadata": {},
   "outputs": [],
   "source": [
    "circ.h(p)\n",
    "circ.h(q)\n",
    "circ.barrier()"
   ]
  },
  {
   "cell_type": "code",
   "execution_count": null,
   "id": "d42c2e36-4d16-4a06-902a-b3649a90b7f0",
   "metadata": {},
   "outputs": [],
   "source": [
    "circ.measure(p, pprime)\n",
    "circ.measure(q, qprime)"
   ]
  },
  {
   "cell_type": "markdown",
   "id": "07aeda58-b0ee-4821-94b1-bd2584a6d2e9",
   "metadata": {},
   "source": [
    "The summation of `p + q` can be mapped by the CCX (Controlled-CNOT) gate. The previous operation is analogous to an XOR operation over two bits.  \n",
    "The target qubit is a scratch qubit initiliazed in the zero (`0`) state.  \n",
    "To calculate the carry of the previous summation operate with a CX (Controlled-Not/Toffoli) gate."
   ]
  },
  {
   "cell_type": "code",
   "execution_count": null,
   "id": "e615e276-4750-4487-b43a-cc400bd078dc",
   "metadata": {},
   "outputs": [],
   "source": [
    "from library import SimpleHalfAdder\n",
    "half = SimpleHalfAdder().to_gate()\n",
    "circ.append(half, [p, q, o])"
   ]
  },
  {
   "cell_type": "code",
   "execution_count": null,
   "id": "ebe9d7ff-0283-4657-be0d-cc2661322b4f",
   "metadata": {},
   "outputs": [],
   "source": [
    "circ.measure(q, sum)\n",
    "circ.measure(o, cout)"
   ]
  },
  {
   "cell_type": "code",
   "execution_count": null,
   "id": "f916329f-9f13-43a4-8dc6-a365bbc7f83c",
   "metadata": {},
   "outputs": [],
   "source": [
    "circ.draw('mpl')"
   ]
  },
  {
   "cell_type": "code",
   "execution_count": null,
   "id": "8eaf8588-c35a-4e7b-ac94-ea52173a4171",
   "metadata": {},
   "outputs": [],
   "source": [
    "from qiskit_aer import Aer, AerSimulator\n",
    "from qiskit.visualization import plot_histogram\n",
    "from qiskit import transpile"
   ]
  },
  {
   "cell_type": "code",
   "execution_count": null,
   "id": "bc4bdbd9-d153-4058-a6ee-5aff82f24f41",
   "metadata": {},
   "outputs": [],
   "source": [
    "sim = AerSimulator()\n",
    "circ = transpile(circ, sim)\n",
    "circ.draw()"
   ]
  },
  {
   "cell_type": "code",
   "execution_count": null,
   "id": "2941404d-bda9-4ac9-b221-4354147d2b71",
   "metadata": {},
   "outputs": [],
   "source": [
    "backend = Aer.get_backend('qasm_simulator')\n",
    "result = backend.run(circ).result()"
   ]
  },
  {
   "cell_type": "code",
   "execution_count": null,
   "id": "e174d271-2f1f-451d-acc2-18c6ebb2efca",
   "metadata": {},
   "outputs": [],
   "source": [
    "plot_histogram(result.get_counts())"
   ]
  },
  {
   "cell_type": "markdown",
   "id": "17d59186-38c5-444e-a4c9-17bcb57d2dcb",
   "metadata": {},
   "source": [
    "| p | q | o | p' | q'=sum | o'=cout |\n",
    "|:-:|:-:|:-:|:--:|:------:|:-------:|\n",
    "| 0 | 0 | 0 |  0 |    0   |    0    |\n",
    "| 0 | 1 | 0 |  0 |    1   |    0    |\n",
    "| 1 | 0 | 0 |  1 |    1   |    0    |\n",
    "| 1 | 1 | 0 |  1 |    0   |    1    |\n",
    "\n",
    "The truth table of the half adder circuit."
   ]
  }
 ],
 "metadata": {
  "kernelspec": {
   "display_name": "Python 3 (ipykernel)",
   "language": "python",
   "name": "python3"
  },
  "language_info": {
   "codemirror_mode": {
    "name": "ipython",
    "version": 3
   },
   "file_extension": ".py",
   "mimetype": "text/x-python",
   "name": "python",
   "nbconvert_exporter": "python",
   "pygments_lexer": "ipython3",
   "version": "3.11.2"
  }
 },
 "nbformat": 4,
 "nbformat_minor": 5
}
