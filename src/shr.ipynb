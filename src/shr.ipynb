{
 "cells": [
  {
   "cell_type": "code",
   "execution_count": null,
   "id": "6195a604-78a6-424f-8a21-6682c935645c",
   "metadata": {},
   "outputs": [],
   "source": [
    "from qiskit import QuantumRegister, ClassicalRegister, QuantumCircuit"
   ]
  },
  {
   "cell_type": "code",
   "execution_count": null,
   "id": "0c871c89-0b9f-4675-be12-d5c1c05bf397",
   "metadata": {},
   "outputs": [],
   "source": [
    "nbits = 4"
   ]
  },
  {
   "cell_type": "code",
   "execution_count": null,
   "id": "efccfa07-edf9-4e62-93cc-86c164341d68",
   "metadata": {},
   "outputs": [],
   "source": [
    "a = QuantumRegister(nbits + 1, 'a') # nbits + 1 garbage bit\n",
    "abefore = ClassicalRegister(nbits, \"a before\")\n",
    "aprime = ClassicalRegister(nbits, \"a'\")\n",
    "circ = QuantumCircuit(a, abefore, aprime)"
   ]
  },
  {
   "cell_type": "code",
   "execution_count": null,
   "id": "45900bf7-022c-48a0-91ac-9ba347fd0213",
   "metadata": {},
   "outputs": [],
   "source": [
    "circ.h(a[:nbits])\n",
    "circ.barrier()\n",
    "circ.measure(a[:nbits], abefore)\n",
    "circ.barrier()"
   ]
  },
  {
   "cell_type": "code",
   "execution_count": null,
   "id": "b1a7ce1f-be88-4dbe-ba36-4ce0ad14dc3b",
   "metadata": {},
   "outputs": [],
   "source": [
    "for i in range(nbits-1):\n",
    "    circ.swap(a[i], a[i+1])\n",
    "circ.barrier()"
   ]
  },
  {
   "cell_type": "code",
   "execution_count": null,
   "id": "fa24c4b4-ee27-45db-986d-66392877ad22",
   "metadata": {},
   "outputs": [],
   "source": [
    "circ.measure(a[:nbits], aprime)"
   ]
  },
  {
   "cell_type": "code",
   "execution_count": null,
   "id": "b9d4475b-6fad-43aa-9a66-62d582414b25",
   "metadata": {},
   "outputs": [],
   "source": [
    "from qiskit.visualization import circuit_drawer\n",
    "circuit_drawer(circ, output='mpl', fold=-1)"
   ]
  },
  {
   "cell_type": "code",
   "execution_count": null,
   "id": "849bdac2-5c9a-4398-8d37-eca380de3567",
   "metadata": {},
   "outputs": [],
   "source": [
    "from qiskit_aer import Aer\n",
    "from qiskit.visualization import plot_histogram"
   ]
  },
  {
   "cell_type": "code",
   "execution_count": null,
   "id": "27a50459-2eb8-4cec-b6c5-a2ddb2fd37f7",
   "metadata": {},
   "outputs": [],
   "source": [
    "backend = Aer.get_backend('qasm_simulator')\n",
    "result = backend.run(circ).result()"
   ]
  },
  {
   "cell_type": "code",
   "execution_count": null,
   "id": "e468b324-ff98-40b7-92b2-881f66dc1abb",
   "metadata": {},
   "outputs": [],
   "source": [
    "plot_histogram(result.get_counts())"
   ]
  }
 ],
 "metadata": {
  "kernelspec": {
   "display_name": "Python 3 (ipykernel)",
   "language": "python",
   "name": "python3"
  },
  "language_info": {
   "codemirror_mode": {
    "name": "ipython",
    "version": 3
   },
   "file_extension": ".py",
   "mimetype": "text/x-python",
   "name": "python",
   "nbconvert_exporter": "python",
   "pygments_lexer": "ipython3",
   "version": "3.11.2"
  }
 },
 "nbformat": 4,
 "nbformat_minor": 5
}
