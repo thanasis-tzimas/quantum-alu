{
 "cells": [
  {
   "cell_type": "code",
   "execution_count": null,
   "id": "de5e28f3-3cd3-4cc3-9509-2b286a9935cb",
   "metadata": {},
   "outputs": [],
   "source": [
    "from qiskit import QuantumRegister, ClassicalRegister, QuantumCircuit"
   ]
  },
  {
   "cell_type": "code",
   "execution_count": null,
   "id": "db4ffa34-88b8-4835-a69a-3ca11e27dfb7",
   "metadata": {},
   "outputs": [],
   "source": [
    "nbits = 2"
   ]
  },
  {
   "cell_type": "code",
   "execution_count": null,
   "id": "d76ec796-c302-4522-8bc3-cf9035e986f3",
   "metadata": {},
   "outputs": [],
   "source": [
    "a = QuantumRegister(nbits, 'a')\n",
    "sel = QuantumRegister(1, 'select')\n",
    "anc = QuantumRegister(nbits + 1, 'ancilla')\n",
    "aprime = ClassicalRegister(nbits, \"a'\")\n",
    "selprime = ClassicalRegister(1, \"select'\")\n",
    "z = ClassicalRegister(1, 'z')\n",
    "circ = QuantumCircuit(a, sel, anc, aprime, selprime, z)"
   ]
  },
  {
   "cell_type": "code",
   "execution_count": null,
   "id": "18bd91eb-e55a-46aa-9d46-41113473772c",
   "metadata": {},
   "outputs": [],
   "source": [
    "circ.h(a)\n",
    "circ.h(sel)\n",
    "circ.measure(a, aprime)\n",
    "circ.measure(sel, selprime)\n",
    "circ.barrier(a, sel)"
   ]
  },
  {
   "cell_type": "code",
   "execution_count": null,
   "id": "088a07e4-926b-4e0e-82e0-01b3c02edf7e",
   "metadata": {},
   "outputs": [],
   "source": [
    "circ.x(sel)\n",
    "circ.ccx(a[0], sel, anc[0])\n",
    "circ.x(sel)\n",
    "circ.ccx(a[1], sel, anc[1])\n",
    "circ.barrier()\n",
    "circ.x(anc[0])\n",
    "circ.x(anc[1])\n",
    "circ.ccx(anc[0], anc[1], anc[2])\n",
    "circ.x(anc[0])\n",
    "circ.x(anc[1])\n",
    "circ.x(anc[2])"
   ]
  },
  {
   "cell_type": "code",
   "execution_count": null,
   "id": "3c2c3f8b-6c3e-422a-8414-2cbabfa621d4",
   "metadata": {},
   "outputs": [],
   "source": [
    "circ.measure(anc[2], z)"
   ]
  },
  {
   "cell_type": "code",
   "execution_count": null,
   "id": "ab4b0773-a07d-4c93-a54a-8c511624bf6a",
   "metadata": {},
   "outputs": [],
   "source": [
    "from qiskit.visualization import circuit_drawer\n",
    "circuit_drawer(circ, output='mpl', fold=-1)"
   ]
  },
  {
   "cell_type": "code",
   "execution_count": null,
   "id": "411e9b42-6b48-45c9-a32f-af81fa1798e3",
   "metadata": {},
   "outputs": [],
   "source": [
    "from qiskit_aer import Aer\n",
    "from qiskit.visualization import plot_histogram"
   ]
  },
  {
   "cell_type": "code",
   "execution_count": null,
   "id": "3f1b43c7-a29d-44a3-9cd4-844c0503cef6",
   "metadata": {},
   "outputs": [],
   "source": [
    "backend = Aer.get_backend('qasm_simulator')\n",
    "results = backend.run(circ).result()"
   ]
  },
  {
   "cell_type": "code",
   "execution_count": null,
   "id": "b5e75263-7723-4a79-bfca-ade4a1701c92",
   "metadata": {},
   "outputs": [],
   "source": [
    "plot_histogram(results.get_counts())"
   ]
  }
 ],
 "metadata": {
  "kernelspec": {
   "display_name": "Python 3 (ipykernel)",
   "language": "python",
   "name": "python3"
  },
  "language_info": {
   "codemirror_mode": {
    "name": "ipython",
    "version": 3
   },
   "file_extension": ".py",
   "mimetype": "text/x-python",
   "name": "python",
   "nbconvert_exporter": "python",
   "pygments_lexer": "ipython3",
   "version": "3.11.2"
  }
 },
 "nbformat": 4,
 "nbformat_minor": 5
}
