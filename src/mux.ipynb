{
 "cells": [
  {
   "cell_type": "code",
   "execution_count": null,
   "id": "b49f96d6-00c5-49f9-ba35-3cdd7fa65b6a",
   "metadata": {},
   "outputs": [],
   "source": [
    "from qiskit import QuantumRegister, ClassicalRegister, QuantumCircuit"
   ]
  },
  {
   "cell_type": "code",
   "execution_count": null,
   "id": "ac5ce7c7-70f0-4d02-bb7d-873f840e37b0",
   "metadata": {},
   "outputs": [],
   "source": [
    "input = QuantumRegister(2, 'I')\n",
    "sel = QuantumRegister(1, 'S')\n",
    "anc = QuantumRegister(3, 'anc')\n",
    "cr = ClassicalRegister(1, 'c')\n",
    "circ = QuantumCircuit(input, sel, anc, cr)"
   ]
  },
  {
   "cell_type": "code",
   "execution_count": null,
   "id": "40ca7bc6-60b7-457b-985b-e3dc63bb3fb5",
   "metadata": {},
   "outputs": [],
   "source": [
    "circ.ccx(input[1], sel, anc[0])\n",
    "circ.x(anc[0])\n",
    "circ.ccx(input[0], anc[0], anc[1])\n",
    "circ.x(anc[0])\n",
    "circ.x(anc[1])\n",
    "circ.ccx(anc[0], anc[1], anc[2])\n",
    "circ.x(sel)\n",
    "circ.barrier(input, sel)"
   ]
  },
  {
   "cell_type": "code",
   "execution_count": null,
   "id": "1d379324-cb19-4a88-a943-675f5363fbb5",
   "metadata": {},
   "outputs": [],
   "source": [
    "circ.measure(sel, cr)"
   ]
  },
  {
   "cell_type": "code",
   "execution_count": null,
   "id": "cfd8deb0-868c-4c7e-9384-fcfe1784cdda",
   "metadata": {},
   "outputs": [],
   "source": [
    "circ.draw(output='mpl', style='iqp',\n",
    "        filename='mux.pdf')"
   ]
  }
 ],
 "metadata": {
  "kernelspec": {
   "display_name": "Python 3 (ipykernel)",
   "language": "python",
   "name": "python3"
  },
  "language_info": {
   "codemirror_mode": {
    "name": "ipython",
    "version": 3
   },
   "file_extension": ".py",
   "mimetype": "text/x-python",
   "name": "python",
   "nbconvert_exporter": "python",
   "pygments_lexer": "ipython3",
   "version": "3.11.2"
  }
 },
 "nbformat": 4,
 "nbformat_minor": 5
}
