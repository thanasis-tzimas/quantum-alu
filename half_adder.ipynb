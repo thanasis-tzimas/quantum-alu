{
 "cells": [
  {
   "cell_type": "markdown",
   "metadata": {},
   "source": [
    "# Ο κβαντικός ημι-αθροιστής\n",
    "Το παρακάτω κύκλωμα υπολογίζει το άθροισμα δύο qubits\n",
    "καθώς και το πιθανό κρατούμενο.  \n",
    "Το συγκεκριμένο κύκλωμα δεν συνυπολογίζει την ύπαρξη\n",
    "κρατουμένου εισόδου από κάποια πιθανή προηγούμενη πρόσθεση."
   ]
  },
  {
   "cell_type": "code",
   "execution_count": 1,
   "metadata": {},
   "outputs": [],
   "source": [
    "from qiskit import QuantumCircuit, QuantumRegister"
   ]
  },
  {
   "cell_type": "code",
   "execution_count": 2,
   "metadata": {},
   "outputs": [],
   "source": [
    "a = QuantumRegister(1, 'a')\n",
    "b = QuantumRegister(1, 'b')\n",
    "o = QuantumRegister(1, 'o')\n",
    "C = QuantumCircuit(a, b, o)"
   ]
  },
  {
   "cell_type": "markdown",
   "metadata": {},
   "source": [
    "Έστω ένα κύκλωμα $C$ που είναι στιγμιότυπο της κλάσης `QuantumCircuit`. Το κύκλωμα $C$ έχει τρια (3) qubits: $a, b$ και $o$. Έστω το $o$ είναι \"*καλωδιομένο*\" στο $\\ket{0}$.  \n",
    "Για να υπολογίσουμε το άθροισμα των $a + b$ θα πρέπει να δράσουμε πάνω στα qubits με μια πύλη $CNOT$,\n",
    "η οποία ισοδυναμεί με μια κλασσική πύλη $XOR$, δηλαδή $a \\otimes b$. Η έξοδος τη συμβολίζουμε ως $s$.  \n",
    "Το κρατούμενο της πρόσθεσης είναι απλά η σύζευξη του $q_0 \\land q_1 = c$, δηλαδή πρέπει να δράσουμε πάνω στα qubits $a, b, o$ με μια πύλη $CCNOT$. "
   ]
  },
  {
   "cell_type": "code",
   "execution_count": 3,
   "metadata": {},
   "outputs": [
    {
     "data": {
      "text/plain": [
       "<qiskit.circuit.instructionset.InstructionSet at 0x7f846a387400>"
      ]
     },
     "execution_count": 3,
     "metadata": {},
     "output_type": "execute_result"
    }
   ],
   "source": [
    "C.ccx(a, b, o)\n",
    "C.cx(a, b)"
   ]
  },
  {
   "cell_type": "code",
   "execution_count": 4,
   "metadata": {},
   "outputs": [
    {
     "name": "stderr",
     "output_type": "stream",
     "text": [
      "/home/thanasis/thesis/.venv/lib/python3.11/site-packages/qiskit/visualization/circuit/matplotlib.py:266: FutureWarning: The default matplotlib drawer scheme will be changed to \"iqp\" in a following release. To silence this warning, specify the current default explicitly as style=\"clifford\", or the new default as style=\"iqp\".\n",
      "  self._style, def_font_ratio = load_style(self._style)\n"
     ]
    },
    {
     "data": {
      "image/png": "[encoded data removed]",
      "text/plain": [
       "<Figure size 269.266x284.278 with 1 Axes>"
      ]
     },
     "execution_count": 4,
     "metadata": {},
     "output_type": "execute_result"
    }
   ],
   "source": [
    "C.draw('mpl')"
   ]
  }
 ],
 "metadata": {
  "kernelspec": {
   "display_name": ".venv",
   "language": "python",
   "name": "python3"
  },
  "language_info": {
   "codemirror_mode": {
    "name": "ipython",
    "version": 3
   },
   "file_extension": ".py",
   "mimetype": "text/x-python",
   "name": "python",
   "nbconvert_exporter": "python",
   "pygments_lexer": "ipython3",
   "version": "3.11.2"
  }
 },
 "nbformat": 4,
 "nbformat_minor": 2
}
